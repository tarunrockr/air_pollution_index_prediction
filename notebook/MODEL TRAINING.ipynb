{
 "cells": [
  {
   "cell_type": "code",
   "execution_count": 1,
   "id": "d81dc49f",
   "metadata": {},
   "outputs": [],
   "source": [
    "import numpy as np\n",
    "import pandas as pd \n",
    "import matplotlib.pyplot as plt \n",
    "import seaborn as sns\n",
    "\n",
    "from sklearn.metrics import mean_squared_error, mean_absolute_error, r2_score\n",
    "from sklearn.neighbors import KNeighborsRegressor\n",
    "from sklearn.tree import DecisionTreeRegressor\n",
    "from sklearn.ensemble import RandomForestRegressor, AdaBoostRegressor\n",
    "from sklearn.svm import SVR\n",
    "from sklearn.linear_model import LinearRegression, Ridge, Lasso\n",
    "from sklearn.model_selection import RandomizedSearchCV, GridSearchCV, train_test_split\n",
    "from catboost import CatBoostRegressor\n",
    "from xgboost import XGBRegressor\n",
    "import warnings"
   ]
  },
  {
   "cell_type": "code",
   "execution_count": 2,
   "id": "199a343a",
   "metadata": {},
   "outputs": [],
   "source": [
    "# Import dataset \n",
    "df = pd.read_csv(\"data/train.csv\")"
   ]
  },
  {
   "cell_type": "code",
   "execution_count": 3,
   "id": "82c7737c",
   "metadata": {},
   "outputs": [
    {
     "data": {
      "text/html": [
       "<div>\n",
       "<style scoped>\n",
       "    .dataframe tbody tr th:only-of-type {\n",
       "        vertical-align: middle;\n",
       "    }\n",
       "\n",
       "    .dataframe tbody tr th {\n",
       "        vertical-align: top;\n",
       "    }\n",
       "\n",
       "    .dataframe thead th {\n",
       "        text-align: right;\n",
       "    }\n",
       "</style>\n",
       "<table border=\"1\" class=\"dataframe\">\n",
       "  <thead>\n",
       "    <tr style=\"text-align: right;\">\n",
       "      <th></th>\n",
       "      <th>date_time</th>\n",
       "      <th>is_holiday</th>\n",
       "      <th>humidity</th>\n",
       "      <th>wind_speed</th>\n",
       "      <th>wind_direction</th>\n",
       "      <th>visibility_in_miles</th>\n",
       "      <th>dew_point</th>\n",
       "      <th>temperature</th>\n",
       "      <th>rain_p_h</th>\n",
       "      <th>snow_p_h</th>\n",
       "      <th>clouds_all</th>\n",
       "      <th>weather_type</th>\n",
       "      <th>air_pollution_index</th>\n",
       "      <th>traffic_volume</th>\n",
       "    </tr>\n",
       "  </thead>\n",
       "  <tbody>\n",
       "    <tr>\n",
       "      <th>0</th>\n",
       "      <td>2012-10-02 09:00:00</td>\n",
       "      <td>None</td>\n",
       "      <td>89</td>\n",
       "      <td>2</td>\n",
       "      <td>329</td>\n",
       "      <td>1</td>\n",
       "      <td>1</td>\n",
       "      <td>288.28</td>\n",
       "      <td>0.0</td>\n",
       "      <td>0.0</td>\n",
       "      <td>40</td>\n",
       "      <td>Clouds</td>\n",
       "      <td>121</td>\n",
       "      <td>5545</td>\n",
       "    </tr>\n",
       "    <tr>\n",
       "      <th>1</th>\n",
       "      <td>2012-10-02 10:00:00</td>\n",
       "      <td>None</td>\n",
       "      <td>67</td>\n",
       "      <td>3</td>\n",
       "      <td>330</td>\n",
       "      <td>1</td>\n",
       "      <td>1</td>\n",
       "      <td>289.36</td>\n",
       "      <td>0.0</td>\n",
       "      <td>0.0</td>\n",
       "      <td>75</td>\n",
       "      <td>Clouds</td>\n",
       "      <td>178</td>\n",
       "      <td>4516</td>\n",
       "    </tr>\n",
       "    <tr>\n",
       "      <th>2</th>\n",
       "      <td>2012-10-02 11:00:00</td>\n",
       "      <td>None</td>\n",
       "      <td>66</td>\n",
       "      <td>3</td>\n",
       "      <td>329</td>\n",
       "      <td>2</td>\n",
       "      <td>2</td>\n",
       "      <td>289.58</td>\n",
       "      <td>0.0</td>\n",
       "      <td>0.0</td>\n",
       "      <td>90</td>\n",
       "      <td>Clouds</td>\n",
       "      <td>113</td>\n",
       "      <td>4767</td>\n",
       "    </tr>\n",
       "    <tr>\n",
       "      <th>3</th>\n",
       "      <td>2012-10-02 12:00:00</td>\n",
       "      <td>None</td>\n",
       "      <td>66</td>\n",
       "      <td>3</td>\n",
       "      <td>329</td>\n",
       "      <td>5</td>\n",
       "      <td>5</td>\n",
       "      <td>290.13</td>\n",
       "      <td>0.0</td>\n",
       "      <td>0.0</td>\n",
       "      <td>90</td>\n",
       "      <td>Clouds</td>\n",
       "      <td>20</td>\n",
       "      <td>5026</td>\n",
       "    </tr>\n",
       "    <tr>\n",
       "      <th>4</th>\n",
       "      <td>2012-10-02 13:00:00</td>\n",
       "      <td>None</td>\n",
       "      <td>65</td>\n",
       "      <td>3</td>\n",
       "      <td>329</td>\n",
       "      <td>7</td>\n",
       "      <td>7</td>\n",
       "      <td>291.14</td>\n",
       "      <td>0.0</td>\n",
       "      <td>0.0</td>\n",
       "      <td>75</td>\n",
       "      <td>Clouds</td>\n",
       "      <td>281</td>\n",
       "      <td>4918</td>\n",
       "    </tr>\n",
       "  </tbody>\n",
       "</table>\n",
       "</div>"
      ],
      "text/plain": [
       "             date_time is_holiday  humidity  wind_speed  wind_direction  \\\n",
       "0  2012-10-02 09:00:00       None        89           2             329   \n",
       "1  2012-10-02 10:00:00       None        67           3             330   \n",
       "2  2012-10-02 11:00:00       None        66           3             329   \n",
       "3  2012-10-02 12:00:00       None        66           3             329   \n",
       "4  2012-10-02 13:00:00       None        65           3             329   \n",
       "\n",
       "   visibility_in_miles  dew_point  temperature  rain_p_h  snow_p_h  \\\n",
       "0                    1          1       288.28       0.0       0.0   \n",
       "1                    1          1       289.36       0.0       0.0   \n",
       "2                    2          2       289.58       0.0       0.0   \n",
       "3                    5          5       290.13       0.0       0.0   \n",
       "4                    7          7       291.14       0.0       0.0   \n",
       "\n",
       "   clouds_all weather_type  air_pollution_index  traffic_volume  \n",
       "0          40       Clouds                  121            5545  \n",
       "1          75       Clouds                  178            4516  \n",
       "2          90       Clouds                  113            4767  \n",
       "3          90       Clouds                   20            5026  \n",
       "4          75       Clouds                  281            4918  "
      ]
     },
     "execution_count": 3,
     "metadata": {},
     "output_type": "execute_result"
    }
   ],
   "source": [
    "df.head()"
   ]
  },
  {
   "cell_type": "code",
   "execution_count": 4,
   "id": "aefbfe5e",
   "metadata": {},
   "outputs": [],
   "source": [
    "# Detecting outliers in column by z_score method as it close to normal distribution\n",
    "def detect_outliers_by_z_score(data):\n",
    "    outliers = []\n",
    "    threshold = 3\n",
    "    std_val  = data.std()\n",
    "    mean_val = data.mean()\n",
    "\n",
    "    for value in data:\n",
    "        z_score = (value-mean_val)/std_val\n",
    "        if abs(z_score) > 3:\n",
    "            outliers.append(value)\n",
    "    return outliers\n",
    "\n",
    "\n",
    "# Detecting outliers in column by IQR method as it is not normally distributed\n",
    "def outliers_by_iqr(data):\n",
    "    outliers = []\n",
    "    \n",
    "    percentile_25 = np.quantile(data, 0.25)\n",
    "    percentile_75 = np.quantile(data, 0.75)\n",
    "    IQR           = percentile_75 - percentile_25\n",
    "    upper_limit   = percentile_75 + (1.5 * IQR)\n",
    "    lower_limit   = percentile_25 - (1.5 * IQR)\n",
    "    print(\"Upper Limit: \", upper_limit)\n",
    "    print(\"Lower Limit: \", lower_limit)\n",
    "    \n",
    "    for item in data:\n",
    "        if (item > upper_limit) or (item < lower_limit):\n",
    "            outliers.append(item)\n",
    "            \n",
    "    return outliers, upper_limit, lower_limit"
   ]
  },
  {
   "cell_type": "code",
   "execution_count": 5,
   "id": "a1c0f79a",
   "metadata": {},
   "outputs": [
    {
     "name": "stdout",
     "output_type": "stream",
     "text": [
      "Upper Limit:  9.5\n",
      "Lower Limit:  -2.5\n",
      "Upper Limit:  318.96999999999997\n",
      "Lower Limit:  243.37000000000006\n"
     ]
    }
   ],
   "source": [
    "#------------------------- Handling \"humidity\" columns outliers --------------------------\n",
    "out = detect_outliers_by_z_score(df['humidity'])\n",
    "# Capping \"humidity\" column outliers by upper_limit and lower_limit\n",
    "upper_limit = df['humidity'].mean() + (3*df['humidity'].std())\n",
    "lower_limit = df['humidity'].mean() - (3*df['humidity'].std())\n",
    "df['humidity'] = np.where( df['humidity']>upper_limit, upper_limit, np.where( df['humidity']<lower_limit, lower_limit, df['humidity'] ) )\n",
    "\n",
    "#------------------------- Handling \"wind_speed\" columns outliers --------------------------\n",
    "outlier_data, iqr_upper_limit, iqr_lower_limit = outliers_by_iqr(df['wind_speed'])\n",
    "# Capping outliers of \"wind_speed\" column\n",
    "df['wind_speed'] = np.where( (df['wind_speed']>iqr_upper_limit), iqr_upper_limit, np.where(df['wind_speed']<iqr_lower_limit, iqr_lower_limit, df['wind_speed']))\n",
    "\n",
    "\n",
    "#------------------------- Handling \"temperature\" columns outliers --------------------------\n",
    "outlier_data, iqr_upper_limit, iqr_lower_limit = outliers_by_iqr(df['temperature'])\n",
    "# Capping outliers of \"temperature\" column\n",
    "df['temperature'] = np.where( (df['temperature']>iqr_upper_limit), iqr_upper_limit, np.where(df['temperature']<iqr_lower_limit, iqr_lower_limit, df['temperature']))\n"
   ]
  },
  {
   "cell_type": "code",
   "execution_count": 6,
   "id": "0f57c2fb",
   "metadata": {},
   "outputs": [],
   "source": [
    "# Dropping columns -> \"rain_p_h\", \"snow_p_h\", \"dew_point\"\n",
    "df.drop(columns=['rain_p_h', 'snow_p_h', 'dew_point'], inplace=True)"
   ]
  },
  {
   "cell_type": "code",
   "execution_count": 7,
   "id": "57d14974",
   "metadata": {},
   "outputs": [],
   "source": [
    "# Creating new columns from \"date_time\"\n",
    "df['date_time'] = pd.to_datetime(df['date_time'])"
   ]
  },
  {
   "cell_type": "code",
   "execution_count": 8,
   "id": "c3931c13",
   "metadata": {},
   "outputs": [],
   "source": [
    "# Createing 3 new columns \"date_year\", \"date_month\", \"date_day\"\n",
    "df['date_year']  = df['date_time'].dt.year\n",
    "df['date_month'] = df['date_time'].dt.month\n",
    "df['date_day']   = df['date_time'].dt.day"
   ]
  },
  {
   "cell_type": "code",
   "execution_count": 9,
   "id": "6791c6d5",
   "metadata": {},
   "outputs": [],
   "source": [
    "# Dropping date_time column\n",
    "df.drop(columns=['date_time'], inplace=True)"
   ]
  },
  {
   "cell_type": "code",
   "execution_count": 10,
   "id": "4029ee06",
   "metadata": {},
   "outputs": [],
   "source": [
    "df['is_holiday'] = np.where(df['is_holiday'] == \"None\", 0, 1)"
   ]
  },
  {
   "cell_type": "code",
   "execution_count": 11,
   "id": "f972b1e3",
   "metadata": {},
   "outputs": [],
   "source": [
    "# train test split \n",
    "X = df.drop(\"air_pollution_index\", axis=1)\n",
    "y = df['air_pollution_index']\n",
    "\n",
    "X_train, X_test, y_train, y_test = train_test_split(X, y, test_size=0.2, random_state=42)"
   ]
  },
  {
   "cell_type": "code",
   "execution_count": 12,
   "id": "fc5bcc58",
   "metadata": {},
   "outputs": [
    {
     "data": {
      "text/plain": [
       "((27000, 12), (6750, 12))"
      ]
     },
     "execution_count": 12,
     "metadata": {},
     "output_type": "execute_result"
    }
   ],
   "source": [
    "X_train.shape, X_test.shape"
   ]
  },
  {
   "cell_type": "code",
   "execution_count": 13,
   "id": "08a23ec6",
   "metadata": {},
   "outputs": [
    {
     "data": {
      "text/plain": [
       "(Index(['is_holiday', 'humidity', 'wind_speed', 'wind_direction',\n",
       "        'visibility_in_miles', 'temperature', 'clouds_all', 'traffic_volume',\n",
       "        'date_year', 'date_month', 'date_day'],\n",
       "       dtype='object'),\n",
       " Index(['weather_type'], dtype='object'))"
      ]
     },
     "execution_count": 13,
     "metadata": {},
     "output_type": "execute_result"
    }
   ],
   "source": [
    "# num_columns = [ col for col in X_train.columns if X_train[col].dtype != \"O\"]\n",
    "# cat_columns = [ col for col in X_train.columns if X_train[col].dtype == \"O\"]\n",
    "\n",
    "num_columns = X_train.select_dtypes(exclude=\"object\").columns\n",
    "cat_columns = X_train.select_dtypes(include=\"object\").columns\n",
    "num_columns, cat_columns"
   ]
  },
  {
   "cell_type": "code",
   "execution_count": 14,
   "id": "572faa36",
   "metadata": {},
   "outputs": [
    {
     "data": {
      "text/html": [
       "<div>\n",
       "<style scoped>\n",
       "    .dataframe tbody tr th:only-of-type {\n",
       "        vertical-align: middle;\n",
       "    }\n",
       "\n",
       "    .dataframe tbody tr th {\n",
       "        vertical-align: top;\n",
       "    }\n",
       "\n",
       "    .dataframe thead th {\n",
       "        text-align: right;\n",
       "    }\n",
       "</style>\n",
       "<table border=\"1\" class=\"dataframe\">\n",
       "  <thead>\n",
       "    <tr style=\"text-align: right;\">\n",
       "      <th></th>\n",
       "      <th>is_holiday</th>\n",
       "      <th>humidity</th>\n",
       "      <th>wind_speed</th>\n",
       "      <th>wind_direction</th>\n",
       "      <th>visibility_in_miles</th>\n",
       "      <th>temperature</th>\n",
       "      <th>clouds_all</th>\n",
       "      <th>weather_type</th>\n",
       "      <th>air_pollution_index</th>\n",
       "      <th>traffic_volume</th>\n",
       "      <th>date_year</th>\n",
       "      <th>date_month</th>\n",
       "      <th>date_day</th>\n",
       "    </tr>\n",
       "  </thead>\n",
       "  <tbody>\n",
       "    <tr>\n",
       "      <th>0</th>\n",
       "      <td>0</td>\n",
       "      <td>89.0</td>\n",
       "      <td>2.0</td>\n",
       "      <td>329</td>\n",
       "      <td>1</td>\n",
       "      <td>288.28</td>\n",
       "      <td>40</td>\n",
       "      <td>Clouds</td>\n",
       "      <td>121</td>\n",
       "      <td>5545</td>\n",
       "      <td>2012</td>\n",
       "      <td>10</td>\n",
       "      <td>2</td>\n",
       "    </tr>\n",
       "    <tr>\n",
       "      <th>1</th>\n",
       "      <td>0</td>\n",
       "      <td>67.0</td>\n",
       "      <td>3.0</td>\n",
       "      <td>330</td>\n",
       "      <td>1</td>\n",
       "      <td>289.36</td>\n",
       "      <td>75</td>\n",
       "      <td>Clouds</td>\n",
       "      <td>178</td>\n",
       "      <td>4516</td>\n",
       "      <td>2012</td>\n",
       "      <td>10</td>\n",
       "      <td>2</td>\n",
       "    </tr>\n",
       "    <tr>\n",
       "      <th>2</th>\n",
       "      <td>0</td>\n",
       "      <td>66.0</td>\n",
       "      <td>3.0</td>\n",
       "      <td>329</td>\n",
       "      <td>2</td>\n",
       "      <td>289.58</td>\n",
       "      <td>90</td>\n",
       "      <td>Clouds</td>\n",
       "      <td>113</td>\n",
       "      <td>4767</td>\n",
       "      <td>2012</td>\n",
       "      <td>10</td>\n",
       "      <td>2</td>\n",
       "    </tr>\n",
       "    <tr>\n",
       "      <th>3</th>\n",
       "      <td>0</td>\n",
       "      <td>66.0</td>\n",
       "      <td>3.0</td>\n",
       "      <td>329</td>\n",
       "      <td>5</td>\n",
       "      <td>290.13</td>\n",
       "      <td>90</td>\n",
       "      <td>Clouds</td>\n",
       "      <td>20</td>\n",
       "      <td>5026</td>\n",
       "      <td>2012</td>\n",
       "      <td>10</td>\n",
       "      <td>2</td>\n",
       "    </tr>\n",
       "    <tr>\n",
       "      <th>4</th>\n",
       "      <td>0</td>\n",
       "      <td>65.0</td>\n",
       "      <td>3.0</td>\n",
       "      <td>329</td>\n",
       "      <td>7</td>\n",
       "      <td>291.14</td>\n",
       "      <td>75</td>\n",
       "      <td>Clouds</td>\n",
       "      <td>281</td>\n",
       "      <td>4918</td>\n",
       "      <td>2012</td>\n",
       "      <td>10</td>\n",
       "      <td>2</td>\n",
       "    </tr>\n",
       "  </tbody>\n",
       "</table>\n",
       "</div>"
      ],
      "text/plain": [
       "   is_holiday  humidity  wind_speed  wind_direction  visibility_in_miles  \\\n",
       "0           0      89.0         2.0             329                    1   \n",
       "1           0      67.0         3.0             330                    1   \n",
       "2           0      66.0         3.0             329                    2   \n",
       "3           0      66.0         3.0             329                    5   \n",
       "4           0      65.0         3.0             329                    7   \n",
       "\n",
       "   temperature  clouds_all weather_type  air_pollution_index  traffic_volume  \\\n",
       "0       288.28          40       Clouds                  121            5545   \n",
       "1       289.36          75       Clouds                  178            4516   \n",
       "2       289.58          90       Clouds                  113            4767   \n",
       "3       290.13          90       Clouds                   20            5026   \n",
       "4       291.14          75       Clouds                  281            4918   \n",
       "\n",
       "   date_year  date_month  date_day  \n",
       "0       2012          10         2  \n",
       "1       2012          10         2  \n",
       "2       2012          10         2  \n",
       "3       2012          10         2  \n",
       "4       2012          10         2  "
      ]
     },
     "execution_count": 14,
     "metadata": {},
     "output_type": "execute_result"
    }
   ],
   "source": [
    "df.head()"
   ]
  },
  {
   "cell_type": "markdown",
   "id": "5c52fc67",
   "metadata": {},
   "source": [
    "# Without pipeline and column transformer"
   ]
  },
  {
   "cell_type": "code",
   "execution_count": 15,
   "id": "bca23331",
   "metadata": {},
   "outputs": [],
   "source": [
    "from sklearn.preprocessing import OneHotEncoder, StandardScaler\n",
    "\n",
    "ohe = OneHotEncoder(handle_unknown='ignore', sparse_output=False)\n",
    "X_train_ohe = ohe.fit_transform(X_train[cat_columns])\n",
    "X_test_ohe  = ohe.transform(X_test[cat_columns])"
   ]
  },
  {
   "cell_type": "code",
   "execution_count": 16,
   "id": "62cea8fc",
   "metadata": {},
   "outputs": [],
   "source": [
    "# pd.DataFrame(X_train_ohe)"
   ]
  },
  {
   "cell_type": "code",
   "execution_count": 17,
   "id": "0c928ab8",
   "metadata": {},
   "outputs": [],
   "source": [
    "scaler = StandardScaler()\n",
    "X_train_scaled = scaler.fit_transform(X_train[num_columns])\n",
    "X_test_scaled  = scaler.transform(X_test[num_columns])"
   ]
  },
  {
   "cell_type": "code",
   "execution_count": 18,
   "id": "b66ad5e5",
   "metadata": {},
   "outputs": [
    {
     "data": {
      "text/plain": [
       "((27000, 11), (27000, 11))"
      ]
     },
     "execution_count": 18,
     "metadata": {},
     "output_type": "execute_result"
    }
   ],
   "source": [
    "#  pd.DataFrame(X_train_scaled)\n",
    "X_train_ohe.shape, X_train_scaled.shape"
   ]
  },
  {
   "cell_type": "code",
   "execution_count": 19,
   "id": "7983086f",
   "metadata": {},
   "outputs": [],
   "source": [
    "# Concatenating the arrays(X_train_ohe, X_train_scaled) along columns\n",
    "X_train_final_arr = np.concatenate( (X_train_ohe, X_train_scaled), axis=1)\n",
    "X_test_final_arr  = np.concatenate( (X_test_ohe, X_test_scaled), axis=1)"
   ]
  },
  {
   "cell_type": "code",
   "execution_count": 20,
   "id": "3933bfa6",
   "metadata": {},
   "outputs": [
    {
     "data": {
      "text/plain": [
       "((27000, 22), (6750, 22))"
      ]
     },
     "execution_count": 20,
     "metadata": {},
     "output_type": "execute_result"
    }
   ],
   "source": [
    "# pd.DataFrame(X_train_final_arr)\n",
    "X_train_final_arr.shape, X_test_final_arr.shape"
   ]
  },
  {
   "cell_type": "markdown",
   "id": "061c6312",
   "metadata": {},
   "source": [
    "# With Pipeline and Column Transformer"
   ]
  },
  {
   "cell_type": "code",
   "execution_count": 21,
   "id": "dc3bef46",
   "metadata": {},
   "outputs": [],
   "source": [
    "from sklearn.pipeline import Pipeline\n",
    "from sklearn.compose import ColumnTransformer\n",
    "\n",
    "pipeline_1 = Pipeline([ (\"ohe\", ohe) ])\n",
    "\n",
    "pipeline_2 = Pipeline([ (\"scaler\", scaler) ])\n",
    "\n",
    "ct = ColumnTransformer([\n",
    "    (\"pipeline_1\", pipeline_1, cat_columns),\n",
    "    (\"pipeline_2\", pipeline_2, num_columns),\n",
    "])"
   ]
  },
  {
   "cell_type": "code",
   "execution_count": 22,
   "id": "c6f0cc9b",
   "metadata": {},
   "outputs": [],
   "source": [
    "X_train_transformed = ct.fit_transform(X_train)\n",
    "X_test_transformed  = ct.transform(X_test)"
   ]
  },
  {
   "cell_type": "code",
   "execution_count": 23,
   "id": "bd8182e5",
   "metadata": {},
   "outputs": [
    {
     "data": {
      "text/plain": [
       "((27000, 22), (6750, 22))"
      ]
     },
     "execution_count": 23,
     "metadata": {},
     "output_type": "execute_result"
    }
   ],
   "source": [
    "# pd.DataFrame(X_train_transformed)\n",
    "X_train_transformed.shape, X_test_transformed.shape"
   ]
  },
  {
   "cell_type": "markdown",
   "id": "de66c6b3",
   "metadata": {},
   "source": [
    "# Creating Model"
   ]
  },
  {
   "cell_type": "code",
   "execution_count": null,
   "id": "db86b7f4",
   "metadata": {},
   "outputs": [],
   "source": [
    "# Applying Hyperparameter tuning on Random Forest\n",
    "model = RandomForestRegressor()\n",
    "params = {\n",
    "    \"n_estimators\": [10,20,30,40,50,60,70,80,90,100],\n",
    "    \"criterion\":    [\"squared_error\", \"absolute_error\", \"friedman_mse\", \"poisson\"],\n",
    "    \"max_features\": [\"sqrt\", \"log2\", None]\n",
    "}\n",
    "\n",
    "gird_rf = GridSearchCV(estimator=model, param_grid=params, cv=3, scoring='r2')\n",
    "gird_rf.fit(X_train_transformed, y_train)\n",
    "print(\"Best Params: \",gird_rf.best_params_)\n",
    "print(\"Best Score: \", best_score_)"
   ]
  },
  {
   "cell_type": "code",
   "execution_count": null,
   "id": "2a40c101",
   "metadata": {},
   "outputs": [],
   "source": [
    "models = {\n",
    "    \"KNN\": KNeighborsRegressor(),\n",
    "    \"DTR\": DecisionTreeRegressor(),\n",
    "    \"RFR\": RandomForestRegressor(),\n",
    "    \"ABR\": AdaBoostRegressor(),\n",
    "    \"SVR\": SVR(),\n",
    "    \"LR\" : LinearRegression(),\n",
    "    \"Ridge\": Ridge(),\n",
    "    \"Lasso\": Lasso(),\n",
    "    \"CB\": CatBoostRegressor(),\n",
    "    \"XGB\": XGBRegressor()\n",
    "}"
   ]
  },
  {
   "cell_type": "code",
   "execution_count": null,
   "id": "c06ca0fe",
   "metadata": {},
   "outputs": [],
   "source": [
    "def evalute_model(y_test, y_pred):\n",
    "    mse  = mean_squared_error(y_test, y_pred)\n",
    "    mae  = mean_absolute_error(y_test, y_pred)\n",
    "    rmse = np.sqrt(mse)\n",
    "    r2_scor = r2_score(y_test, y_pred)\n",
    "    \n",
    "    return r2_scor, rmse, mae"
   ]
  },
  {
   "cell_type": "code",
   "execution_count": null,
   "id": "0fb93499",
   "metadata": {},
   "outputs": [],
   "source": [
    "model_list = []\n",
    "r2_list    = []\n",
    "rmse_list  = []\n",
    "mae_list   = []\n",
    "\n",
    "for key in models.keys():\n",
    "    \n",
    "    model = models[key]\n",
    "    # Training model\n",
    "    model.fit(X_train_transformed, y_train)\n",
    "    y_pred = model.predict(X_test_transformed)\n",
    "    r2_scr, rmse, mae = evalute_model(y_test, y_pred)\n",
    "    \n",
    "    print(f\"---------------------- Model Name: {key} ----------------------------\")\n",
    "    print(\"R2 Score: \", r2_scr)\n",
    "    print(\"RMSE: \", rmse)\n",
    "    print(\"MAE: \", mae)\n",
    "    print()\n",
    "        \n",
    "    model_list.append(key)\n",
    "    r2_list.append(r2_scr)\n",
    "    rmse_list.append(rmse)\n",
    "    mae_list.append(mae)\n"
   ]
  },
  {
   "cell_type": "code",
   "execution_count": null,
   "id": "ae4f6ba8",
   "metadata": {},
   "outputs": [],
   "source": [
    "result_df = pd.DataFrame({'Model': model_list, \"R2 Score\": r2_list, \"RMSE\": rmse_list, \"MAE\": mae_list}).sort_values(by='R2 Score', ascending=False)"
   ]
  },
  {
   "cell_type": "code",
   "execution_count": null,
   "id": "392cf3fb",
   "metadata": {},
   "outputs": [],
   "source": [
    "result_df"
   ]
  },
  {
   "cell_type": "code",
   "execution_count": null,
   "id": "c5420b65",
   "metadata": {},
   "outputs": [],
   "source": []
  }
 ],
 "metadata": {
  "kernelspec": {
   "display_name": "Python 3",
   "language": "python",
   "name": "python3"
  },
  "language_info": {
   "codemirror_mode": {
    "name": "ipython",
    "version": 3
   },
   "file_extension": ".py",
   "mimetype": "text/x-python",
   "name": "python",
   "nbconvert_exporter": "python",
   "pygments_lexer": "ipython3",
   "version": "3.8.8"
  }
 },
 "nbformat": 4,
 "nbformat_minor": 5
}
